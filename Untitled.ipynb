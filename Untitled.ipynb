{
 "cells": [
  {
   "cell_type": "code",
   "execution_count": 12,
   "id": "6e0ed042-f65b-49c5-9a1b-75c004043920",
   "metadata": {},
   "outputs": [
    {
     "name": "stdin",
     "output_type": "stream",
     "text": [
      "Enter your name:  anurag\n",
      "Enter their name:  parvekar\n"
     ]
    },
    {
     "name": "stdout",
     "output_type": "stream",
     "text": [
      "anurag and parvekar\n",
      "['a', 'e', 'g', 'k', 'n', 'p', 'r', 'u', 'v']\n"
     ]
    }
   ],
   "source": [
    "name1 = input(\"Enter your name: \")\n",
    "name2 = input(\"Enter their name: \")\n",
    "\n",
    "print(f\"{name1} and {name2}\")\n",
    "\n",
    "nme_un = sorted(set(name1.lower()) | set(name2.lower()))\n",
    "\n",
    "print(nme_un)"
   ]
  }
 ],
 "metadata": {
  "kernelspec": {
   "display_name": "Python 3 (ipykernel)",
   "language": "python",
   "name": "python3"
  },
  "language_info": {
   "codemirror_mode": {
    "name": "ipython",
    "version": 3
   },
   "file_extension": ".py",
   "mimetype": "text/x-python",
   "name": "python",
   "nbconvert_exporter": "python",
   "pygments_lexer": "ipython3",
   "version": "3.13.9"
  }
 },
 "nbformat": 4,
 "nbformat_minor": 5
}
